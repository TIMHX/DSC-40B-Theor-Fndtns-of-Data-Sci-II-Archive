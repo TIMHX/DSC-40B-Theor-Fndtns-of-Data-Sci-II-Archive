{
 "cells": [
  {
   "cell_type": "code",
   "execution_count": 213,
   "id": "5eee119b",
   "metadata": {},
   "outputs": [
    {
     "name": "stdout",
     "output_type": "stream",
     "text": [
      "The autoreload extension is already loaded. To reload it, use:\n",
      "  %reload_ext autoreload\n"
     ]
    }
   ],
   "source": [
    "import dsc40graph\n",
    "%load_ext autoreload\n",
    "%autoreload 2"
   ]
  },
  {
   "cell_type": "code",
   "execution_count": 37,
   "id": "3fc25aa3",
   "metadata": {},
   "outputs": [],
   "source": [
    "graph = dsc40graph.UndirectedGraph()\n",
    "graph.add_node('a')\n",
    "graph.add_node('b')\n",
    "graph.add_node('c')\n",
    "graph.add_node('d')"
   ]
  },
  {
   "cell_type": "code",
   "execution_count": 38,
   "id": "46b23240",
   "metadata": {},
   "outputs": [],
   "source": [
    "graph.add_edge('a', 'd')\n",
    "graph.add_edge('a', 'b')\n",
    "graph.add_edge('b', 'c')\n",
    "graph.add_edge('c', 'd')"
   ]
  },
  {
   "cell_type": "code",
   "execution_count": 39,
   "id": "1f94cb64",
   "metadata": {},
   "outputs": [
    {
     "data": {
      "text/plain": [
       "<4 nodes: 'a', 'b', 'c', 'd'>"
      ]
     },
     "execution_count": 39,
     "metadata": {},
     "output_type": "execute_result"
    }
   ],
   "source": [
    "graph.nodes"
   ]
  },
  {
   "cell_type": "code",
   "execution_count": 40,
   "id": "fb51d883",
   "metadata": {},
   "outputs": [
    {
     "data": {
      "text/plain": [
       "<4 edges: ('a', 'd'), ('a', 'b'), ('b', 'c'), ('c', 'd')>"
      ]
     },
     "execution_count": 40,
     "metadata": {},
     "output_type": "execute_result"
    }
   ],
   "source": [
    "graph.edges"
   ]
  },
  {
   "cell_type": "code",
   "execution_count": 54,
   "id": "bff4c33a",
   "metadata": {},
   "outputs": [],
   "source": [
    "def weight(u, v):\n",
    "    save = {\n",
    "        frozenset(['a', 'b']): 1,\n",
    "        frozenset(['a', 'd']): 0.2,\n",
    "        frozenset(['b', 'c']): 0.3,\n",
    "        frozenset(['c', 'd']): 0.9\n",
    "    }\n",
    "    try:\n",
    "        return save[frozenset([u, v])]\n",
    "    except:\n",
    "        return"
   ]
  },
  {
   "cell_type": "code",
   "execution_count": 46,
   "id": "10676f4b",
   "metadata": {},
   "outputs": [
    {
     "data": {
      "text/plain": [
       "0.9"
      ]
     },
     "execution_count": 46,
     "metadata": {},
     "output_type": "execute_result"
    }
   ],
   "source": [
    "weight('c','d')"
   ]
  },
  {
   "cell_type": "code",
   "execution_count": 8,
   "id": "323c6559",
   "metadata": {},
   "outputs": [
    {
     "name": "stdout",
     "output_type": "stream",
     "text": [
      "Couldn't find program: 'false'\n"
     ]
    }
   ],
   "source": [
    "%%script false --no-raise-error\n",
    "from collections import deque\n",
    "\n",
    "def full_bfs(graph, weight, threshold):\n",
    "    status = {node: 'undiscovered' for node in graph.nodes}\n",
    "    for node in graph.nodes:\n",
    "        if status[node] == 'undiscovered':\n",
    "            bfs(graph=graph,\n",
    "                source=node,\n",
    "                status=status,\n",
    "                weight=weight,\n",
    "                threshold=threshold)\n",
    "\n",
    "\n",
    "def bfs(graph, source, weight, status=None, threshold=0):\n",
    "    if status is None:\n",
    "        status = {node: 'undiscovered' for node in graph.nodes}\n",
    "\n",
    "    status[source] = 'pending'\n",
    "    pending = deque([source])\n",
    "    while pending:\n",
    "        u = pending.popleft()\n",
    "        for v in graph.neighbors(u):\n",
    "            if status[v] == 'undiscovered':\n",
    "                status[v] = 'pending'\n",
    "                pending.append(v)\n",
    "                print(frozenset([u,v]))\n",
    "        status[u] = 'visited'"
   ]
  },
  {
   "cell_type": "code",
   "execution_count": 9,
   "id": "0d8e17fc",
   "metadata": {},
   "outputs": [
    {
     "name": "stdout",
     "output_type": "stream",
     "text": [
      "Couldn't find program: 'false'\n"
     ]
    }
   ],
   "source": [
    "%%script false --no-raise-error\n",
    "def cluster(graph, weights, level):\n",
    "    return full_bfs(graph, weights, level)"
   ]
  },
  {
   "cell_type": "code",
   "execution_count": 10,
   "id": "535ef63e",
   "metadata": {},
   "outputs": [
    {
     "name": "stdout",
     "output_type": "stream",
     "text": [
      "Couldn't find program: 'false'\n"
     ]
    }
   ],
   "source": [
    "%%script false --no-raise-error\n",
    "cluster(graph, weight, 0.4)"
   ]
  },
  {
   "cell_type": "code",
   "execution_count": 70,
   "id": "4149389c",
   "metadata": {},
   "outputs": [],
   "source": [
    "def weight(u, v):\n",
    "    save = {\n",
    "        frozenset(['a', 'b']): 1,\n",
    "        frozenset(['a', 'd']): 0.2,\n",
    "        frozenset(['b', 'c']): 0.3,\n",
    "        frozenset(['c', 'd']): 0.9\n",
    "    }\n",
    "    try:\n",
    "        return save[frozenset([u, v])]\n",
    "    except:\n",
    "        return"
   ]
  },
  {
   "cell_type": "code",
   "execution_count": 75,
   "id": "459eb385",
   "metadata": {},
   "outputs": [],
   "source": [
    "\n",
    "def DFSUtil(graph, temp, v, visited, weight, threshold):\n",
    " \n",
    "        # Mark the current vertex as visited\n",
    "        visited[v] = True\n",
    " \n",
    "        # Store the vertex to list\n",
    "        temp.append(v)\n",
    " \n",
    "        # Repeat for all vertices adjacent\n",
    "        # to this vertex v\n",
    "        for i in graph.neighbors(v):\n",
    "            if (weight(v,i) != None) and (weight(v,i) >= threshold):\n",
    "                if visited[i] == False:\n",
    "                # Update the list\n",
    "                    temp = DFSUtil(graph, temp, i, visited, weight, threshold)\n",
    "        return temp\n",
    "    \n",
    "def cluster(graph,weight,threshold = 0):\n",
    "    visited = {}\n",
    "    cc = []\n",
    "    for i in graph.nodes:\n",
    "        visited[i] = False\n",
    "    for v in graph.nodes:\n",
    "        if visited[v] == False:\n",
    "            temp = []\n",
    "            cc.append(frozenset(DFSUtil(graph, temp, v, visited, weight, threshold)))\n",
    "    return frozenset(cc)\n",
    " "
   ]
  },
  {
   "cell_type": "code",
   "execution_count": null,
   "id": "5f7e8b3f",
   "metadata": {},
   "outputs": [],
   "source": []
  },
  {
   "cell_type": "code",
   "execution_count": 76,
   "id": "62d9f3f1",
   "metadata": {},
   "outputs": [
    {
     "data": {
      "text/plain": [
       "frozenset({frozenset({'a', 'b'}), frozenset({'c', 'd'})})"
      ]
     },
     "execution_count": 76,
     "metadata": {},
     "output_type": "execute_result"
    }
   ],
   "source": [
    "cluster(graph, weight, 0.4)"
   ]
  },
  {
   "cell_type": "code",
   "execution_count": 27,
   "id": "c0605603",
   "metadata": {},
   "outputs": [
    {
     "data": {
      "text/plain": [
       "{'a', 'b'}"
      ]
     },
     "execution_count": 27,
     "metadata": {},
     "output_type": "execute_result"
    }
   ],
   "source": [
    "graph.neighbors('c')"
   ]
  },
  {
   "cell_type": "code",
   "execution_count": null,
   "id": "be6d6cc0",
   "metadata": {},
   "outputs": [],
   "source": []
  },
  {
   "cell_type": "code",
   "execution_count": 210,
   "id": "346a582e",
   "metadata": {},
   "outputs": [],
   "source": [
    "import min_ell_thera"
   ]
  },
  {
   "cell_type": "code",
   "execution_count": 259,
   "id": "a5642e32",
   "metadata": {},
   "outputs": [],
   "source": [
    "data = [1, 2, 3, 4, 5,6,7,8]\n",
    "color = [\n",
    "    'blue',\n",
    "    'blue',\n",
    "    'red',\n",
    "    'red',\n",
    "    'blue',\n",
    "    'red',\n",
    "    'red',\n",
    "    'blue'\n",
    "]"
   ]
  },
  {
   "cell_type": "code",
   "execution_count": 224,
   "id": "ccfd550b",
   "metadata": {},
   "outputs": [
    {
     "data": {
      "text/plain": [
       "4.5"
      ]
     },
     "execution_count": 224,
     "metadata": {},
     "output_type": "execute_result"
    }
   ],
   "source": [
    "min_ell_thera.learn_theta(data, color)"
   ]
  },
  {
   "cell_type": "code",
   "execution_count": 225,
   "id": "c607e3d1",
   "metadata": {},
   "outputs": [
    {
     "data": {
      "text/plain": [
       "2.0"
      ]
     },
     "execution_count": 225,
     "metadata": {},
     "output_type": "execute_result"
    }
   ],
   "source": [
    "min_ell_thera.compute_ell(data, color, 2.5)"
   ]
  },
  {
   "cell_type": "code",
   "execution_count": 226,
   "id": "996a3c0b",
   "metadata": {},
   "outputs": [
    {
     "data": {
      "text/plain": [
       "4.5"
      ]
     },
     "execution_count": 226,
     "metadata": {},
     "output_type": "execute_result"
    }
   ],
   "source": [
    "min_ell_thera.minimize_ell(data, color)"
   ]
  },
  {
   "cell_type": "code",
   "execution_count": 330,
   "id": "6d6cff9a",
   "metadata": {},
   "outputs": [],
   "source": [
    "data = [1, 2, 3, 4, 5, 6, 7, 8]\n",
    "# color = ['blue', 'blue', 'red', 'red', 'blue', 'blue', 'red', 'red']\n",
    "# color = ['blue', 'blue', 'red', 'red', 'blue', 'red', 'red', 'blue']\n",
    "# color = ['blue', 'blue', 'blue', 'blue', 'red', 'red', 'red', 'red']\n",
    "# color = ['red', 'red', 'red', 'red', 'blue', 'blue', 'blue', 'blue']\n",
    "# color = ['blue', 'red', 'blue', 'blue', 'red', 'blue', 'red', 'red']"
   ]
  },
  {
   "cell_type": "code",
   "execution_count": 331,
   "id": "519e69ae",
   "metadata": {},
   "outputs": [],
   "source": [
    "def test(data, colors):\n",
    "    loss = np.inf\n",
    "    theta = 0\n",
    "    n_blue = len(data)/2\n",
    "    n_red_left = 0\n",
    "    n_blue_right = 4\n",
    "    for i in range(len(data)):\n",
    "        if color[i] == 'blue':\n",
    "            n_blue_right = n_blue_right - 1\n",
    "        elif color[i] == 'red':\n",
    "            n_red_left = n_red_left + 1\n",
    "        if n_blue_right + n_red_left < loss: \n",
    "            if i != len(data) - 1:\n",
    "                loss = n_blue_right + n_red_left\n",
    "                theta = (data[i] + data[i+1])/2\n",
    "            else:\n",
    "                loss = 4\n",
    "                theta = data[i] + 0.05\n",
    "    return theta"
   ]
  },
  {
   "cell_type": "code",
   "execution_count": 332,
   "id": "b9c91c4d",
   "metadata": {},
   "outputs": [
    {
     "data": {
      "text/plain": [
       "4.5"
      ]
     },
     "execution_count": 332,
     "metadata": {},
     "output_type": "execute_result"
    }
   ],
   "source": [
    "test(data, color)"
   ]
  },
  {
   "cell_type": "code",
   "execution_count": null,
   "id": "302d4004",
   "metadata": {},
   "outputs": [],
   "source": []
  }
 ],
 "metadata": {
  "kernelspec": {
   "display_name": "Python 3",
   "language": "python",
   "name": "python3"
  },
  "language_info": {
   "codemirror_mode": {
    "name": "ipython",
    "version": 3
   },
   "file_extension": ".py",
   "mimetype": "text/x-python",
   "name": "python",
   "nbconvert_exporter": "python",
   "pygments_lexer": "ipython3",
   "version": "3.8.8"
  },
  "toc": {
   "base_numbering": 1,
   "nav_menu": {},
   "number_sections": true,
   "sideBar": true,
   "skip_h1_title": false,
   "title_cell": "Table of Contents",
   "title_sidebar": "Contents",
   "toc_cell": false,
   "toc_position": {},
   "toc_section_display": true,
   "toc_window_display": false
  },
  "varInspector": {
   "cols": {
    "lenName": 16,
    "lenType": 16,
    "lenVar": 40
   },
   "kernels_config": {
    "python": {
     "delete_cmd_postfix": "",
     "delete_cmd_prefix": "del ",
     "library": "var_list.py",
     "varRefreshCmd": "print(var_dic_list())"
    },
    "r": {
     "delete_cmd_postfix": ") ",
     "delete_cmd_prefix": "rm(",
     "library": "var_list.r",
     "varRefreshCmd": "cat(var_dic_list()) "
    }
   },
   "types_to_exclude": [
    "module",
    "function",
    "builtin_function_or_method",
    "instance",
    "_Feature"
   ],
   "window_display": false
  }
 },
 "nbformat": 4,
 "nbformat_minor": 5
}
